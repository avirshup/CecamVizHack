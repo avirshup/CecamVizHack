{
 "cells": [
  {
   "cell_type": "code",
   "execution_count": 1,
   "metadata": {
    "collapsed": true
   },
   "outputs": [],
   "source": [
    "import MDAnalysis as mda"
   ]
  },
  {
   "cell_type": "code",
   "execution_count": 2,
   "metadata": {
    "collapsed": true
   },
   "outputs": [],
   "source": [
    "structure = \"1UBQ.pdb\""
   ]
  },
  {
   "cell_type": "code",
   "execution_count": 17,
   "metadata": {
    "collapsed": true
   },
   "outputs": [],
   "source": [
    "ubiquitin = mda.Universe(structure)"
   ]
  },
  {
   "cell_type": "code",
   "execution_count": 18,
   "metadata": {
    "collapsed": false
   },
   "outputs": [],
   "source": [
    "#polar donor clash (2.750 Å) ARG A 42 NE ↔ GLN A 49 NE2\n",
    "gln49 = ubiquitin.select_atoms('resid 49')\n",
    "arg42 = ubiquitin.select_atoms('resid 42')\n",
    "#polar acceptor clash (3.035 Å) MET A 1 O ↔ VAL A 17 O\n",
    "met1 = ubiquitin.select_atoms('resid 1')\n",
    "val17 = ubiquitin.select_atoms('resid 17')"
   ]
  },
  {
   "cell_type": "code",
   "execution_count": null,
   "metadata": {
    "collapsed": false
   },
   "outputs": [],
   "source": []
  },
  {
   "cell_type": "code",
   "execution_count": 61,
   "metadata": {
    "collapsed": false
   },
   "outputs": [],
   "source": [
    "import MDAnalysis.topology.tables as tables\n",
    "import MDAnalysis.lib.distances as distances\n"
   ]
  },
  {
   "cell_type": "code",
   "execution_count": 7,
   "metadata": {
    "collapsed": false
   },
   "outputs": [
    {
     "data": {
      "text/plain": [
       "{'C': 1.5, 'F': 1.2, 'H': 0.4, 'N': 1.1, 'O': 1.05, 'P': 1.6, 'S': 1.6}"
      ]
     },
     "execution_count": 7,
     "metadata": {},
     "output_type": "execute_result"
    }
   ],
   "source": [
    "tables.vdwradii"
   ]
  },
  {
   "cell_type": "code",
   "execution_count": 81,
   "metadata": {
    "collapsed": false
   },
   "outputs": [],
   "source": [
    "#takes atoms = AtomGroup.atoms, positions = AtomGroup.atoms.positions\n",
    "#For detecting clashes, cutoff values of 0.4-1.0 Å and allowance values of 0.2-0.6 Å are generally reasonable.\n",
    "\n",
    "def check_for_clashes(atoms, cutoff=0.6, allowance=0.4, vdwradii=None):\n",
    "\n",
    "    clashes = set()\n",
    "    positions = atoms.positions\n",
    "    \n",
    "    assert len([a for a in atoms if a]) == positions.shape[0]\n",
    "\n",
    "    if not vdwradii:\n",
    "        vdwradii = tables.vdwradii\n",
    "        \n",
    "    for a in atoms:\n",
    "        if not a.type in vdwradii.keys(): \n",
    "            print a.type + \" has no defined vdw radius\"\n",
    "            return clashes\n",
    "\n",
    "    # 1-D vector of the upper-triangle of all-to-all distance matrix    \n",
    "    dist = distances.self_distance_array(positions)\n",
    "    N = len(positions)\n",
    "    \n",
    "    pairs = list()\n",
    "    [[pairs.append((i,j)) for j in range(i + 1, N)] for i in range(N)]\n",
    "       \n",
    "    for x, (d, (i, j)) in enumerate(zip(dist, pairs)):\n",
    "        a1, a2 = atoms[i], atoms[j]\n",
    "        r1, r2 = vdwradii[a1.type], vdwradii[a2.type]\n",
    "        overlap = (r1 + r2) - dist[x] - allowance\n",
    "        print overlap, r1, r2, dist[x], allowance, cutoff\n",
    "        if not overlap >= cutoff : continue\n",
    "        print \"CLASH\", overlap, dist[x], a1, a2\n",
    "        clashes.add(frozenset([i+1,j+1]))\n",
    "\n",
    "    return clashes"
   ]
  },
  {
   "cell_type": "code",
   "execution_count": null,
   "metadata": {
    "collapsed": true
   },
   "outputs": [],
   "source": [
    "def print_clash(atoms, clashes):\n",
    "    a1 = atoms[i]\n",
    "    a2 = atoms[j]\n",
    "    "
   ]
  },
  {
   "cell_type": "code",
   "execution_count": 89,
   "metadata": {
    "collapsed": false
   },
   "outputs": [
    {
     "ename": "TypeError",
     "evalue": "unhashable type: 'list'",
     "output_type": "error",
     "traceback": [
      "\u001b[0;31m---------------------------------------------------------------------------\u001b[0m",
      "\u001b[0;31mTypeError\u001b[0m                                 Traceback (most recent call last)",
      "\u001b[0;32m<ipython-input-89-47a8322b6749>\u001b[0m in \u001b[0;36m<module>\u001b[0;34m()\u001b[0m\n\u001b[1;32m      1\u001b[0m \u001b[0mclashes\u001b[0m  \u001b[0;34m=\u001b[0m \u001b[0mset\u001b[0m\u001b[0;34m(\u001b[0m\u001b[0;34m)\u001b[0m\u001b[0;34m\u001b[0m\u001b[0m\n\u001b[0;32m----> 2\u001b[0;31m \u001b[0mclashes\u001b[0m\u001b[0;34m.\u001b[0m\u001b[0madd\u001b[0m\u001b[0;34m(\u001b[0m\u001b[0;34m[\u001b[0m\u001b[0;36m1\u001b[0m\u001b[0;34m,\u001b[0m \u001b[0;36m8\u001b[0m\u001b[0;34m]\u001b[0m\u001b[0;34m)\u001b[0m\u001b[0;34m\u001b[0m\u001b[0m\n\u001b[0m",
      "\u001b[0;31mTypeError\u001b[0m: unhashable type: 'list'"
     ]
    }
   ],
   "source": [
    "clashes  = set()\n",
    "clashes.add([1, 8])"
   ]
  },
  {
   "cell_type": "code",
   "execution_count": 84,
   "metadata": {
    "collapsed": false
   },
   "outputs": [],
   "source": [
    "ind = clashes.pop()"
   ]
  },
  {
   "cell_type": "code",
   "execution_count": 87,
   "metadata": {
    "collapsed": false
   },
   "outputs": [
    {
     "data": {
      "text/plain": [
       "{7}"
      ]
     },
     "execution_count": 87,
     "metadata": {},
     "output_type": "execute_result"
    }
   ],
   "source": [
    "clashes"
   ]
  },
  {
   "cell_type": "code",
   "execution_count": 9,
   "metadata": {
    "collapsed": false
   },
   "outputs": [],
   "source": [
    "notbb = ubiquitin.select_atoms(\"not backbone\")"
   ]
  },
  {
   "cell_type": "code",
   "execution_count": 43,
   "metadata": {
    "collapsed": false
   },
   "outputs": [],
   "source": [
    "val17 = ubiquitin.select_atoms('resid 17')\n",
    "met1 = ubiquitin.select_atoms('resid 1')\n",
    "clash1 = met1+val17\n",
    "gln49 = ubiquitin.select_atoms('resid 49')\n",
    "arg42 = ubiquitin.select_atoms('resid 42')\n",
    "clash2 = arg42+gln49"
   ]
  },
  {
   "cell_type": "code",
   "execution_count": 50,
   "metadata": {
    "collapsed": false
   },
   "outputs": [
    {
     "data": {
      "text/plain": [
       "<AtomGroup with 7 atoms>"
      ]
     },
     "execution_count": 50,
     "metadata": {},
     "output_type": "execute_result"
    }
   ],
   "source": [
    "clash1.select_atoms(\"not backbone\")"
   ]
  },
  {
   "cell_type": "code",
   "execution_count": 56,
   "metadata": {
    "collapsed": false
   },
   "outputs": [
    {
     "name": "stdout",
     "output_type": "stream",
     "text": [
      "1.10328708891 1.1 1.5 1.49671291109 0.0 0.0\n",
      "CLASH 1.10328708891 1.49671291109 <Atom 321: N of type N of resname ARG, resid 42 and segid A> <Atom 322: CA of type C of resname ARG, resid 42 and segid A>\n",
      "0.213903892732 1.1 1.5 2.38609610727 0.0 0.0\n",
      "CLASH 0.213903892732 2.38609610727 <Atom 321: N of type N of resname ARG, resid 42 and segid A> <Atom 323: C of type C of resname ARG, resid 42 and segid A>\n",
      "-0.661490890024 1.1 1.05 2.81149089002 0.0 0.0\n",
      "0.134404101913 1.1 1.5 2.46559589809 0.0 0.0\n",
      "CLASH 0.134404101913 2.46559589809 <Atom 321: N of type N of resname ARG, resid 42 and segid A> <Atom 325: CB of type C of resname ARG, resid 42 and segid A>\n",
      "-1.25217343586 1.1 1.5 3.85217343586 0.0 0.0\n",
      "-2.34797772212 1.1 1.5 4.94797772212 0.0 0.0\n",
      "-4.02654838043 1.1 1.1 6.22654838043 0.0 0.0\n",
      "-4.42714653104 1.1 1.5 7.02714653104 0.0 0.0\n",
      "-4.76979956066 1.1 1.1 6.96979956066 0.0 0.0\n",
      "-5.94190050006 1.1 1.1 8.14190050006 0.0 0.0\n",
      "-7.49455828002 1.1 1.1 9.69455828002 0.0 0.0\n",
      "-5.71098911039 1.1 1.5 8.31098911039 0.0 0.0\n",
      "-6.01430199626 1.1 1.5 8.61430199626 0.0 0.0\n",
      "-7.53062334523 1.1 1.05 9.68062334523 0.0 0.0\n",
      "-5.365652678 1.1 1.5 7.965652678 0.0 0.0\n",
      "-3.94383896838 1.1 1.5 6.54383896838 0.0 0.0\n",
      "-3.9579690663 1.1 1.5 6.5579690663 0.0 0.0\n",
      "-4.48112454825 1.1 1.05 6.63112454825 0.0 0.0\n",
      "-4.69336937481 1.1 1.1 6.89336937481 0.0 0.0\n",
      "1.48692173131 1.5 1.5 1.51307826869 0.0 0.0\n",
      "CLASH 1.48692173131 1.51307826869 <Atom 322: CA of type C of resname ARG, resid 42 and segid A> <Atom 323: C of type C of resname ARG, resid 42 and segid A>\n",
      "0.156672336806 1.5 1.05 2.39332766319 0.0 0.0\n",
      "CLASH 0.156672336806 2.39332766319 <Atom 322: CA of type C of resname ARG, resid 42 and segid A> <Atom 324: O of type O of resname ARG, resid 42 and segid A>\n",
      "1.49094240229 1.5 1.5 1.50905759771 0.0 0.0\n",
      "CLASH 1.49094240229 1.50905759771 <Atom 322: CA of type C of resname ARG, resid 42 and segid A> <Atom 325: CB of type C of resname ARG, resid 42 and segid A>\n",
      "0.40767431671 1.5 1.5 2.59232568329 0.0 0.0\n",
      "CLASH 0.40767431671 2.59232568329 <Atom 322: CA of type C of resname ARG, resid 42 and segid A> <Atom 326: CG of type C of resname ARG, resid 42 and segid A>\n",
      "-0.893964963449 1.5 1.5 3.89396496345 0.0 0.0\n",
      "-2.4447340669 1.5 1.1 5.0447340669 0.0 0.0\n",
      "-2.94372712653 1.5 1.5 5.94372712653 0.0 0.0\n",
      "-3.51257594775 1.5 1.1 6.11257594775 0.0 0.0\n",
      "-4.36787719632 1.5 1.1 6.96787719632 0.0 0.0\n",
      "-5.62823645744 1.5 1.1 8.22823645744 0.0 0.0\n",
      "-3.85053430828 1.5 1.5 6.85053430828 0.0 0.0\n",
      "-4.23153305596 1.5 1.5 7.23153305596 0.0 0.0\n",
      "-5.75534949724 1.5 1.05 8.30534949724 0.0 0.0\n",
      "-3.47963931248 1.5 1.5 6.47963931248 0.0 0.0\n",
      "-2.08001632858 1.5 1.5 5.08001632858 0.0 0.0\n",
      "-2.16802307839 1.5 1.5 5.16802307839 0.0 0.0\n",
      "-2.82170961865 1.5 1.05 5.37170961865 0.0 0.0\n",
      "-2.91653426 1.5 1.1 5.51653426 0.0 0.0\n",
      "1.25382432885 1.5 1.05 1.29617567115 0.0 0.0\n",
      "CLASH 1.25382432885 1.29617567115 <Atom 323: C of type C of resname ARG, resid 42 and segid A> <Atom 324: O of type O of resname ARG, resid 42 and segid A>\n",
      "0.416421185135 1.5 1.5 2.58357881486 0.0 0.0\n",
      "CLASH 0.416421185135 2.58357881486 <Atom 323: C of type C of resname ARG, resid 42 and segid A> <Atom 325: CB of type C of resname ARG, resid 42 and segid A>\n",
      "-0.0675517116332 1.5 1.5 3.06755171163 0.0 0.0\n",
      "-1.53780869284 1.5 1.5 4.53780869284 0.0 0.0\n",
      "-2.79239676001 1.5 1.1 5.39239676001 0.0 0.0\n",
      "-3.11418406283 1.5 1.5 6.11418406283 0.0 0.0\n",
      "-3.70124761425 1.5 1.1 6.30124761425 0.0 0.0\n",
      "-4.35635138105 1.5 1.1 6.95635138105 0.0 0.0\n",
      "-5.09524764289 1.5 1.1 7.69524764289 0.0 0.0\n",
      "-3.38976750119 1.5 1.5 6.38976750119 0.0 0.0\n",
      "-3.76816076015 1.5 1.5 6.76816076015 0.0 0.0\n",
      "-5.39289621786 1.5 1.05 7.94289621786 0.0 0.0\n",
      "-3.34302415977 1.5 1.5 6.34302415977 0.0 0.0\n",
      "-2.12572731479 1.5 1.5 5.12572731479 0.0 0.0\n",
      "-2.61196075079 1.5 1.5 5.61196075079 0.0 0.0\n",
      "-3.48765073515 1.5 1.05 6.03765073515 0.0 0.0\n",
      "-3.35979807775 1.5 1.1 5.95979807775 0.0 0.0\n",
      "-0.532854444059 1.05 1.5 3.08285444406 0.0 0.0\n",
      "-0.952499207671 1.05 1.5 3.50249920767 0.0 0.0\n",
      "-2.26701351689 1.05 1.5 4.81701351689 0.0 0.0\n",
      "-3.45001665593 1.05 1.1 5.60001665593 0.0 0.0\n",
      "-3.51040904241 1.05 1.5 6.06040904241 0.0 0.0\n",
      "-3.86621830634 1.05 1.1 6.01621830634 0.0 0.0\n",
      "-4.74528428802 1.05 1.1 6.89528428802 0.0 0.0\n",
      "-6.14712940273 1.05 1.1 8.29712940273 0.0 0.0\n",
      "-4.56511305693 1.05 1.5 7.11511305693 0.0 0.0\n",
      "-5.08984538958 1.05 1.5 7.63984538958 0.0 0.0\n",
      "-6.75846802151 1.05 1.05 8.85846802151 0.0 0.0\n",
      "-4.5911032264 1.05 1.5 7.1411032264 0.0 0.0\n",
      "-3.50929049416 1.05 1.5 6.05929049416 0.0 0.0\n",
      "-3.98752031907 1.05 1.5 6.53752031907 0.0 0.0\n",
      "-4.98236344913 1.05 1.05 7.08236344913 0.0 0.0\n",
      "-4.53065872439 1.05 1.1 6.68065872439 0.0 0.0\n",
      "1.48083967614 1.5 1.5 1.51916032386 0.0 0.0\n",
      "CLASH 1.48083967614 1.51916032386 <Atom 325: CB of type C of resname ARG, resid 42 and segid A> <Atom 326: CG of type C of resname ARG, resid 42 and segid A>\n",
      "0.503427959874 1.5 1.5 2.49657204013 0.0 0.0\n",
      "CLASH 0.503427959874 2.49657204013 <Atom 325: CB of type C of resname ARG, resid 42 and segid A> <Atom 327: CD of type C of resname ARG, resid 42 and segid A>\n",
      "-1.19307382289 1.5 1.1 3.79307382289 0.0 0.0\n",
      "-1.6967249005 1.5 1.5 4.6967249005 0.0 0.0\n",
      "-2.22331450349 1.5 1.1 4.82331450349 0.0 0.0\n",
      "-3.23744784718 1.5 1.1 5.83744784718 0.0 0.0\n",
      "-5.54149933845 1.5 1.1 8.14149933845 0.0 0.0\n",
      "-3.8504818512 1.5 1.5 6.8504818512 0.0 0.0\n",
      "-4.48667139324 1.5 1.5 7.48667139324 0.0 0.0\n",
      "-5.96700847185 1.5 1.05 8.51700847185 0.0 0.0\n",
      "-3.22780318905 1.5 1.5 6.22780318905 0.0 0.0\n",
      "-1.89530239634 1.5 1.5 4.89530239634 0.0 0.0\n",
      "-1.64282862933 1.5 1.5 4.64282862933 0.0 0.0\n",
      "-2.38966898651 1.5 1.05 4.93966898651 0.0 0.0\n",
      "-2.06886065289 1.5 1.1 4.66886065289 0.0 0.0\n",
      "1.4837770021 1.5 1.5 1.5162229979 0.0 0.0\n",
      "CLASH 1.4837770021 1.5162229979 <Atom 326: CG of type C of resname ARG, resid 42 and segid A> <Atom 327: CD of type C of resname ARG, resid 42 and segid A>\n",
      "0.14279804942 1.5 1.1 2.45720195058 0.0 0.0\n",
      "CLASH 0.14279804942 2.45720195058 <Atom 326: CG of type C of resname ARG, resid 42 and segid A> <Atom 328: NE of type N of resname ARG, resid 42 and segid A>\n",
      "-0.427843359802 1.5 1.5 3.4278433598 0.0 0.0\n",
      "-1.25044077364 1.5 1.1 3.85044077364 0.0 0.0\n",
      "-1.84830098748 1.5 1.1 4.44830098748 0.0 0.0\n",
      "-4.30780805639 1.5 1.1 6.90780805639 0.0 0.0\n",
      "-2.7286792497 1.5 1.5 5.7286792497 0.0 0.0\n",
      "-3.58897773955 1.5 1.5 6.58897773955 0.0 0.0\n",
      "-5.06381674608 1.5 1.05 7.61381674608 0.0 0.0\n",
      "-2.05177734875 1.5 1.5 5.05177734875 0.0 0.0\n",
      "-0.911378898431 1.5 1.5 3.91137889843 0.0 0.0\n",
      "-0.703104860046 1.5 1.5 3.70310486005 0.0 0.0\n",
      "-1.77629495227 1.5 1.05 4.32629495227 0.0 0.0\n",
      "-0.885058522718 1.5 1.1 3.48505852272 0.0 0.0\n",
      "1.14015282134 1.5 1.1 1.45984717866 0.0 0.0\n",
      "CLASH 1.14015282134 1.45984717866 <Atom 327: CD of type C of resname ARG, resid 42 and segid A> <Atom 328: NE of type N of resname ARG, resid 42 and segid A>\n",
      "0.526830613867 1.5 1.5 2.47316938613 0.0 0.0\n",
      "CLASH 0.526830613867 2.47316938613 <Atom 327: CD of type C of resname ARG, resid 42 and segid A> <Atom 329: CZ of type C of resname ARG, resid 42 and segid A>\n",
      "-0.294109146354 1.5 1.1 2.89410914635 0.0 0.0\n",
      "-1.06897883577 1.5 1.1 3.66897883577 0.0 0.0\n",
      "-4.80207309109 1.5 1.1 7.40207309109 0.0 0.0\n",
      "-3.38314727851 1.5 1.5 6.38314727851 0.0 0.0\n",
      "-4.40470038422 1.5 1.5 7.40470038422 0.0 0.0\n",
      "-5.76327644261 1.5 1.05 8.31327644261 0.0 0.0\n",
      "-2.45500312415 1.5 1.5 5.45500312415 0.0 0.0\n",
      "-1.51246269216 1.5 1.5 4.51246269216 0.0 0.0\n",
      "-0.871787030688 1.5 1.5 3.87178703069 0.0 0.0\n",
      "-1.93610647675 1.5 1.05 4.48610647675 0.0 0.0\n",
      "-0.594088967409 1.5 1.1 3.19408896741 0.0 0.0\n",
      "1.26117675814 1.1 1.5 1.33882324186 0.0 0.0\n",
      "CLASH 1.26117675814 1.33882324186 <Atom 328: NE of type N of resname ARG, resid 42 and segid A> <Atom 329: CZ of type C of resname ARG, resid 42 and segid A>\n",
      "-0.151864103116 1.1 1.1 2.35186410312 0.0 0.0\n",
      "-0.104793404876 1.1 1.1 2.30479340488 0.0 0.0\n",
      "-4.41412141479 1.1 1.1 6.61412141479 0.0 0.0\n",
      "-3.2291251482 1.1 1.5 5.8291251482 0.0 0.0\n",
      "-4.45600550468 1.1 1.5 7.05600550468 0.0 0.0\n",
      "-5.75685122518 1.1 1.05 7.90685122518 0.0 0.0\n",
      "-2.28657166107 1.1 1.5 4.88657166107 0.0 0.0\n",
      "-1.741509134 1.1 1.5 4.341509134 0.0 0.0\n",
      "-1.184676048 1.1 1.5 3.784676048 0.0 0.0\n",
      "-2.5170955403 1.1 1.05 4.6670955403 0.0 0.0\n",
      "-0.549735542527 1.1 1.1 2.74973554253 0.0 0.0\n",
      "1.2654379867 1.5 1.1 1.3345620133 0.0 0.0\n",
      "CLASH 1.2654379867 1.3345620133 <Atom 329: CZ of type C of resname ARG, resid 42 and segid A> <Atom 330: NH1 of type N of resname ARG, resid 42 and segid A>\n",
      "1.26282919321 1.5 1.1 1.33717080679 0.0 0.0\n",
      "CLASH 1.26282919321 1.33717080679 <Atom 329: CZ of type C of resname ARG, resid 42 and segid A> <Atom 331: NH2 of type N of resname ARG, resid 42 and segid A>\n",
      "-4.50173668389 1.5 1.1 7.10173668389 0.0 0.0\n",
      "-3.52559979983 1.5 1.5 6.52559979983 0.0 0.0\n",
      "-4.87470517285 1.5 1.5 7.87470517285 0.0 0.0\n",
      "-6.19231164582 1.5 1.05 8.74231164582 0.0 0.0\n",
      "-2.73334573877 1.5 1.5 5.73334573877 0.0 0.0\n",
      "-2.42055013728 1.5 1.5 5.42055013728 0.0 0.0\n",
      "-2.00771635779 1.5 1.5 5.00771635779 0.0 0.0\n",
      "-3.40468369718 1.5 1.05 5.95468369718 0.0 0.0\n",
      "-1.2953182793 1.5 1.1 3.8953182793 0.0 0.0\n",
      "-0.0863255707534 1.1 1.1 2.28632557075 0.0 0.0\n",
      "-6.09973671845 1.1 1.1 8.29973671845 0.0 0.0\n",
      "-5.09199043818 1.1 1.5 7.69199043818 0.0 0.0\n",
      "-6.41166731939 1.1 1.5 9.01166731939 0.0 0.0\n",
      "-7.79242216045 1.1 1.05 9.94242216045 0.0 0.0\n",
      "-4.37543876725 1.1 1.5 6.97543876725 0.0 0.0\n",
      "-3.94329075798 1.1 1.5 6.54329075798 0.0 0.0\n",
      "-3.52864428947 1.1 1.5 6.12864428947 0.0 0.0\n",
      "-4.84315287841 1.1 1.05 6.99315287841 0.0 0.0\n",
      "-2.88074065843 1.1 1.1 5.08074065843 0.0 0.0\n",
      "-4.36294558706 1.1 1.1 6.56294558706 0.0 0.0\n",
      "-3.6615313209 1.1 1.5 6.2615313209 0.0 0.0\n",
      "-5.11912851594 1.1 1.5 7.71912851594 0.0 0.0\n",
      "-6.3635557797 1.1 1.05 8.5135557797 0.0 0.0\n",
      "-2.96979949171 1.1 1.5 5.56979949171 0.0 0.0\n",
      "-3.02322494371 1.1 1.5 5.62322494371 0.0 0.0\n",
      "-2.76898232125 1.1 1.5 5.36898232125 0.0 0.0\n",
      "-4.28241214849 1.1 1.05 6.43241214849 0.0 0.0\n",
      "-2.00273042142 1.1 1.1 4.20273042142 0.0 0.0\n",
      "1.10927688378 1.1 1.5 1.49072311622 0.0 0.0\n",
      "CLASH 1.10927688378 1.49072311622 <Atom 377: N of type N of resname GLN, resid 49 and segid A> <Atom 378: CA of type C of resname GLN, resid 49 and segid A>\n",
      "0.22603925093 1.1 1.5 2.37396074907 0.0 0.0\n",
      "CLASH 0.22603925093 2.37396074907 <Atom 377: N of type N of resname GLN, resid 49 and segid A> <Atom 379: C of type C of resname GLN, resid 49 and segid A>\n",
      "-0.555623325931 1.1 1.05 2.70562332593 0.0 0.0\n",
      "0.127190690552 1.1 1.5 2.47280930945 0.0 0.0\n",
      "CLASH 0.127190690552 2.47280930945 <Atom 377: N of type N of resname GLN, resid 49 and segid A> <Atom 381: CB of type C of resname GLN, resid 49 and segid A>\n",
      "-1.22085203442 1.1 1.5 3.82085203442 0.0 0.0\n",
      "-2.36258904473 1.1 1.5 4.96258904473 0.0 0.0\n",
      "-3.71246557722 1.1 1.05 5.86246557722 0.0 0.0\n",
      "-2.99416296954 1.1 1.1 5.19416296954 0.0 0.0\n",
      "1.47393686139 1.5 1.5 1.52606313861 0.0 0.0\n",
      "CLASH 1.47393686139 1.52606313861 <Atom 378: CA of type C of resname GLN, resid 49 and segid A> <Atom 379: C of type C of resname GLN, resid 49 and segid A>\n",
      "0.15219122508 1.5 1.05 2.39780877492 0.0 0.0\n",
      "CLASH 0.15219122508 2.39780877492 <Atom 378: CA of type C of resname GLN, resid 49 and segid A> <Atom 380: O of type O of resname GLN, resid 49 and segid A>\n",
      "1.49078308607 1.5 1.5 1.50921691393 0.0 0.0\n",
      "CLASH 1.49078308607 1.50921691393 <Atom 378: CA of type C of resname GLN, resid 49 and segid A> <Atom 381: CB of type C of resname GLN, resid 49 and segid A>\n",
      "0.510307067856 1.5 1.5 2.48969293214 0.0 0.0\n",
      "CLASH 0.510307067856 2.48969293214 <Atom 378: CA of type C of resname GLN, resid 49 and segid A> <Atom 382: CG of type C of resname GLN, resid 49 and segid A>\n",
      "-0.825089282713 1.5 1.5 3.82508928271 0.0 0.0\n",
      "-2.13971976321 1.5 1.05 4.68971976321 0.0 0.0\n",
      "-1.6912432306 1.5 1.1 4.2912432306 0.0 0.0\n",
      "1.29060804951 1.5 1.05 1.25939195049 0.0 0.0\n",
      "CLASH 1.29060804951 1.25939195049 <Atom 379: C of type C of resname GLN, resid 49 and segid A> <Atom 380: O of type O of resname GLN, resid 49 and segid A>\n",
      "0.483835444556 1.5 1.5 2.51616455544 0.0 0.0\n",
      "CLASH 0.483835444556 2.51616455544 <Atom 379: C of type C of resname GLN, resid 49 and segid A> <Atom 381: CB of type C of resname GLN, resid 49 and segid A>\n",
      "-0.0907158502196 1.5 1.5 3.09071585022 0.0 0.0\n",
      "-1.46128422164 1.5 1.5 4.46128422164 0.0 0.0\n",
      "-2.45958901441 1.5 1.05 5.00958901441 0.0 0.0\n",
      "-2.66313928739 1.5 1.1 5.26313928739 0.0 0.0\n",
      "-0.530427913616 1.05 1.5 3.08042791362 0.0 0.0\n",
      "-1.31240316309 1.05 1.5 3.86240316309 0.0 0.0\n",
      "-2.46355091709 1.05 1.5 5.01355091709 0.0 0.0\n",
      "-3.30384363195 1.05 1.05 5.40384363195 0.0 0.0\n",
      "-3.68830708674 1.05 1.1 5.83830708674 0.0 0.0\n",
      "1.45757498183 1.5 1.5 1.54242501817 0.0 0.0\n",
      "CLASH 1.45757498183 1.54242501817 <Atom 381: CB of type C of resname GLN, resid 49 and segid A> <Atom 382: CG of type C of resname GLN, resid 49 and segid A>\n",
      "0.503589358284 1.5 1.5 2.49641064172 0.0 0.0\n",
      "CLASH 0.503589358284 2.49641064172 <Atom 381: CB of type C of resname GLN, resid 49 and segid A> <Atom 383: CD of type C of resname GLN, resid 49 and segid A>\n",
      "-0.863650182156 1.5 1.05 3.41365018216 0.0 0.0\n",
      "-0.317583800302 1.5 1.1 2.9175838003 0.0 0.0\n",
      "1.4812152225 1.5 1.5 1.5187847775 0.0 0.0\n",
      "CLASH 1.4812152225 1.5187847775 <Atom 382: CG of type C of resname GLN, resid 49 and segid A> <Atom 383: CD of type C of resname GLN, resid 49 and segid A>\n",
      "0.176742803404 1.5 1.05 2.3732571966 0.0 0.0\n",
      "CLASH 0.176742803404 2.3732571966 <Atom 382: CG of type C of resname GLN, resid 49 and segid A> <Atom 384: OE1 of type O of resname GLN, resid 49 and segid A>\n",
      "0.204472602689 1.5 1.1 2.39552739731 0.0 0.0\n",
      "CLASH 0.204472602689 2.39552739731 <Atom 382: CG of type C of resname GLN, resid 49 and segid A> <Atom 385: NE2 of type N of resname GLN, resid 49 and segid A>\n",
      "1.32515335264 1.5 1.05 1.22484664736 0.0 0.0\n",
      "CLASH 1.32515335264 1.22484664736 <Atom 383: CD of type C of resname GLN, resid 49 and segid A> <Atom 384: OE1 of type O of resname GLN, resid 49 and segid A>\n",
      "1.26948759276 1.5 1.1 1.33051240724 0.0 0.0\n",
      "CLASH 1.26948759276 1.33051240724 <Atom 383: CD of type C of resname GLN, resid 49 and segid A> <Atom 385: NE2 of type N of resname GLN, resid 49 and segid A>\n",
      "-0.130784675828 1.05 1.1 2.28078467583 0.0 0.0\n"
     ]
    },
    {
     "data": {
      "text/plain": [
       "{frozenset({5, 7}),\n",
       " frozenset({13, 15}),\n",
       " frozenset({14, 16}),\n",
       " frozenset({1, 2}),\n",
       " frozenset({1, 5}),\n",
       " frozenset({6, 7}),\n",
       " frozenset({8, 9}),\n",
       " frozenset({12, 16}),\n",
       " frozenset({17, 19}),\n",
       " frozenset({9, 10}),\n",
       " frozenset({9, 11}),\n",
       " frozenset({17, 18}),\n",
       " frozenset({3, 5}),\n",
       " frozenset({3, 4}),\n",
       " frozenset({2, 3}),\n",
       " frozenset({2, 5}),\n",
       " frozenset({5, 6}),\n",
       " frozenset({13, 16}),\n",
       " frozenset({14, 15}),\n",
       " frozenset({2, 6}),\n",
       " frozenset({12, 13}),\n",
       " frozenset({18, 19}),\n",
       " frozenset({12, 14}),\n",
       " frozenset({1, 3}),\n",
       " frozenset({13, 14}),\n",
       " frozenset({2, 4}),\n",
       " frozenset({13, 17}),\n",
       " frozenset({17, 20}),\n",
       " frozenset({18, 20}),\n",
       " frozenset({7, 8}),\n",
       " frozenset({6, 8}),\n",
       " frozenset({16, 18}),\n",
       " frozenset({7, 9}),\n",
       " frozenset({16, 17})}"
      ]
     },
     "execution_count": 56,
     "metadata": {},
     "output_type": "execute_result"
    }
   ],
   "source": [
    "check_for_clashes(clash2, 0.0, 0.0)"
   ]
  },
  {
   "cell_type": "code",
   "execution_count": 59,
   "metadata": {
    "collapsed": false
   },
   "outputs": [
    {
     "ename": "NameError",
     "evalue": "name 'TopologyDict' is not defined",
     "output_type": "error",
     "traceback": [
      "\u001b[0;31m---------------------------------------------------------------------------\u001b[0m",
      "\u001b[0;31mNameError\u001b[0m                                 Traceback (most recent call last)",
      "\u001b[0;32m<ipython-input-59-461cc3834c91>\u001b[0m in \u001b[0;36m<module>\u001b[0;34m()\u001b[0m\n\u001b[0;32m----> 1\u001b[0;31m \u001b[0mTopologyDict\u001b[0m\u001b[0;34m\u001b[0m\u001b[0m\n\u001b[0m",
      "\u001b[0;31mNameError\u001b[0m: name 'TopologyDict' is not defined"
     ]
    }
   ],
   "source": [
    "TopologyDict"
   ]
  },
  {
   "cell_type": "code",
   "execution_count": null,
   "metadata": {
    "collapsed": true
   },
   "outputs": [],
   "source": []
  }
 ],
 "metadata": {
  "kernelspec": {
   "display_name": "Python 2",
   "language": "python",
   "name": "python2"
  },
  "language_info": {
   "codemirror_mode": {
    "name": "ipython",
    "version": 2
   },
   "file_extension": ".py",
   "mimetype": "text/x-python",
   "name": "python",
   "nbconvert_exporter": "python",
   "pygments_lexer": "ipython2",
   "version": "2.7.10"
  }
 },
 "nbformat": 4,
 "nbformat_minor": 0
}
