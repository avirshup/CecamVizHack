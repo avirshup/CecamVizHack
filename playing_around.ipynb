{
 "cells": [
  {
   "cell_type": "code",
   "execution_count": 2,
   "metadata": {
    "collapsed": false
   },
   "outputs": [],
   "source": [
    "import numpy as np\n",
    "import scipy as sp\n",
    "import matplotlib.pyplot as plt\n",
    "import MDAnalysis as mda\n",
    "import buckyball_3dmol"
   ]
  },
  {
   "cell_type": "code",
   "execution_count": 11,
   "metadata": {
    "collapsed": true
   },
   "outputs": [],
   "source": [
    "gro_file = '../Band3_traj/band3.gro'\n",
    "xtc_file = '../Band3_traj/band3.xtc'\n",
    "u = mda.Universe(gro_file,xtc_file)"
   ]
  },
  {
   "cell_type": "code",
   "execution_count": 12,
   "metadata": {
    "collapsed": false
   },
   "outputs": [],
   "source": [
    "protein = u.select_atoms('protein')\n",
    "#print list(protein)"
   ]
  },
  {
   "cell_type": "code",
   "execution_count": 13,
   "metadata": {
    "collapsed": false
   },
   "outputs": [],
   "source": [
    "#protein.resnames"
   ]
  },
  {
   "cell_type": "code",
   "execution_count": 14,
   "metadata": {
    "collapsed": false
   },
   "outputs": [
    {
     "name": "stdout",
     "output_type": "stream",
     "text": [
      "<Atom 290: N of type N of resname GLY, resid 27 and segid SYSTEM>\n",
      "<Atom 291: H of type H of resname GLY, resid 27 and segid SYSTEM>\n",
      "<Atom 292: CA of type C of resname GLY, resid 27 and segid SYSTEM>\n",
      "<Atom 293: C of type C of resname GLY, resid 27 and segid SYSTEM>\n",
      "<Atom 294: O of type O of resname GLY, resid 27 and segid SYSTEM>\n",
      "<Atom 295: N of type N of resname GLY, resid 28 and segid SYSTEM>\n",
      "<Atom 296: H of type H of resname GLY, resid 28 and segid SYSTEM>\n",
      "<Atom 297: CA of type C of resname GLY, resid 28 and segid SYSTEM>\n",
      "<Atom 298: C of type C of resname GLY, resid 28 and segid SYSTEM>\n",
      "<Atom 299: O of type O of resname GLY, resid 28 and segid SYSTEM>\n",
      "<Atom 318: N of type N of resname GLY, resid 31 and segid SYSTEM>\n",
      "<Atom 319: H of type H of resname GLY, resid 31 and segid SYSTEM>\n",
      "<Atom 320: CA of type C of resname GLY, resid 31 and segid SYSTEM>\n",
      "<Atom 321: C of type C of resname GLY, resid 31 and segid SYSTEM>\n",
      "<Atom 322: O of type O of resname GLY, resid 31 and segid SYSTEM>\n"
     ]
    }
   ],
   "source": [
    "gly = protein.select_atoms('resname GLY')\n",
    "for i in list(gly):\n",
    "    print i"
   ]
  },
  {
   "cell_type": "code",
   "execution_count": 15,
   "metadata": {
    "collapsed": false
   },
   "outputs": [
    {
     "data": {
      "text/plain": [
       "array([[ 45.65999985,  67.1000061 ,  63.27000046],\n",
       "       [ 45.70000076,  66.11000824,  63.18000412],\n",
       "       [ 46.78000641,  67.64000702,  64.12000275],\n",
       "       [ 47.49000168,  68.8500061 ,  63.44000244],\n",
       "       [ 47.68000031,  69.87000275,  64.1700058 ],\n",
       "       [ 47.28000259,  69.01000214,  62.15000153],\n",
       "       [ 47.15999985,  68.18000031,  61.60000229],\n",
       "       [ 47.57000351,  70.24000549,  61.28000259],\n",
       "       [ 46.63999939,  71.53000641,  61.45000458],\n",
       "       [ 47.11000443,  72.45000458,  62.08000183],\n",
       "       [ 46.90000153,  72.34999847,  65.06000519],\n",
       "       [ 47.06000519,  71.44000244,  64.6700058 ],\n",
       "       [ 48.01000214,  73.34000397,  65.05000305],\n",
       "       [ 47.83000183,  74.70999908,  64.38000488],\n",
       "       [ 48.1000061 ,  75.68000031,  65.1000061 ]], dtype=float32)"
      ]
     },
     "execution_count": 15,
     "metadata": {},
     "output_type": "execute_result"
    }
   ],
   "source": [
    "gly.positions"
   ]
  },
  {
   "cell_type": "code",
   "execution_count": 19,
   "metadata": {
    "collapsed": false
   },
   "outputs": [
    {
     "name": "stdout",
     "output_type": "stream",
     "text": [
      "300.0\n",
      "[[ 44.47000122  66.72000122  64.02000427]\n",
      " [ 44.59999847  65.81000519  63.62000275]\n",
      " [ 45.69000244  67.27999878  64.6700058 ]\n",
      " [ 46.03000259  68.71000671  64.08000183]\n",
      " [ 46.63000107  69.49000549  64.81000519]\n",
      " [ 45.82000351  68.87000275  62.78000259]\n",
      " [ 45.88000488  68.05000305  62.2100029 ]\n",
      " [ 45.83000183  70.15000153  62.08000183]\n",
      " [ 44.78000259  71.08000183  62.63000488]\n",
      " [ 44.99000168  71.96000671  63.4600029 ]\n",
      " [ 44.40999985  73.16000366  66.07000732]\n",
      " [ 44.69000244  72.48000336  65.40000153]\n",
      " [ 45.40000534  74.16000366  66.40000153]\n",
      " [ 44.97000122  75.61000061  66.65000153]\n",
      " [ 45.45999908  76.21000671  67.58000183]]\n"
     ]
    }
   ],
   "source": [
    "for ts in u.trajectory[3:4]:\n",
    "    print ts.time\n",
    "    print gly.positions"
   ]
  },
  {
   "cell_type": "code",
   "execution_count": null,
   "metadata": {
    "collapsed": true
   },
   "outputs": [],
   "source": []
  }
 ],
 "metadata": {
  "kernelspec": {
   "display_name": "Python 2",
   "language": "python",
   "name": "python2"
  },
  "language_info": {
   "codemirror_mode": {
    "name": "ipython",
    "version": 2
   },
   "file_extension": ".py",
   "mimetype": "text/x-python",
   "name": "python",
   "nbconvert_exporter": "python",
   "pygments_lexer": "ipython2",
   "version": "2.7.10"
  }
 },
 "nbformat": 4,
 "nbformat_minor": 0
}
